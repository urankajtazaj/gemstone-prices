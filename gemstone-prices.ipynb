{
 "cells": [
  {
   "cell_type": "code",
   "execution_count": null,
   "id": "5f4af299-5b61-4b15-a243-7bbe064c8cf3",
   "metadata": {},
   "outputs": [],
   "source": [
    "import pandas as pd\n",
    "import matplotlib.pyplot as plt\n",
    "import seaborn as sns\n",
    "sns.set_style('whitegrid')\n",
    "plt.style.use('seaborn')\n",
    "%matplotlib inline\n",
    "\n",
    "from sklearn.preprocessing import MinMaxScaler, LabelEncoder\n",
    "from sklearn.model_selection import train_test_split\n",
    "from sklearn import metrics\n",
    "from sklearn.linear_model import LinearRegression\n",
    "from sklearn.tree import DecisionTreeRegressor\n",
    "from sklearn.ensemble import RandomForestRegressor"
   ]
  },
  {
   "cell_type": "code",
   "execution_count": null,
   "id": "026ae801-9478-4797-815a-0d441de1ee9c",
   "metadata": {},
   "outputs": [],
   "source": [
    "df = pd.read_csv('cubic_zirconia.csv')\n",
    "df.shape"
   ]
  },
  {
   "cell_type": "code",
   "execution_count": null,
   "id": "a529a9a8-3311-428f-9b6a-a5d8d054d730",
   "metadata": {},
   "outputs": [],
   "source": [
    "df.head()"
   ]
  },
  {
   "cell_type": "code",
   "execution_count": null,
   "id": "30b55a7d-3808-40da-8b8f-2d0c1b566a6d",
   "metadata": {},
   "outputs": [],
   "source": [
    "df.columns"
   ]
  },
  {
   "cell_type": "code",
   "execution_count": null,
   "id": "74bb959d-92a7-4980-96c8-e09ae49bedf5",
   "metadata": {},
   "outputs": [],
   "source": [
    "df.describe()"
   ]
  },
  {
   "cell_type": "markdown",
   "id": "d937db70-9a04-448d-8120-3dc0983ffd10",
   "metadata": {},
   "source": [
    "### Processing"
   ]
  },
  {
   "cell_type": "code",
   "execution_count": null,
   "id": "083beba2-6902-41b4-a1b0-61b5cb37f6bf",
   "metadata": {},
   "outputs": [],
   "source": [
    "df.drop('Unnamed: 0',axis=1,inplace=True)\n",
    "df = df.replace({'Ideal':4,'Premium':3,'Very Good':2,'Good':1,'Fair':0})\n",
    "\n",
    "e = LabelEncoder()\n",
    "df['color'] = e.fit_transform(df['color'])\n",
    "df['clarity'] = e.fit_transform(df['clarity'])"
   ]
  },
  {
   "cell_type": "code",
   "execution_count": null,
   "id": "f2b298ee-9030-49f3-97a4-50adac57dcc2",
   "metadata": {},
   "outputs": [],
   "source": [
    "df.isnull().sum()"
   ]
  },
  {
   "cell_type": "code",
   "execution_count": null,
   "id": "e672ad3b-0c1a-47e4-836c-e4daf53cb807",
   "metadata": {},
   "outputs": [],
   "source": [
    "df['depth_median'] = df['depth'].fillna(df.depth.median())\n",
    "df.drop('depth',axis=1,inplace=True)"
   ]
  },
  {
   "cell_type": "code",
   "execution_count": null,
   "id": "c8615026",
   "metadata": {},
   "outputs": [],
   "source": [
    "df.head()"
   ]
  },
  {
   "cell_type": "code",
   "execution_count": null,
   "id": "ad60cdd5",
   "metadata": {},
   "outputs": [],
   "source": [
    "plt.figure(figsize = (12,10))\n",
    "plt.title('Correlation between variables')\n",
    "sns.heatmap(df.corr(), annot=True, cmap= \"bone_r\")"
   ]
  },
  {
   "cell_type": "markdown",
   "id": "22dc1c64",
   "metadata": {},
   "source": [
    "### Prediction"
   ]
  },
  {
   "cell_type": "code",
   "execution_count": null,
   "id": "e0502400-50c3-41ef-8a4c-6cb41bc836f4",
   "metadata": {},
   "outputs": [],
   "source": [
    "x = df.drop(['price'],axis=1)\n",
    "y = df[['price']]\n",
    "x_train, x_test, y_train, y_test = train_test_split(x, y, test_size = 0.2, random_state = 42)\n",
    "print(\"The shape of x_train is      \", x_train.shape)\n",
    "print(\"The shape of x_test is       \", x_test.shape)\n",
    "print(\"The shape of y_train is      \", y_train.shape)\n",
    "print(\"The shape of y_test is       \", y_test.shape)"
   ]
  },
  {
   "cell_type": "markdown",
   "id": "ef5571d5-6ccc-4749-8da7-6333a8623aa4",
   "metadata": {},
   "source": [
    "### Linear Regression"
   ]
  },
  {
   "cell_type": "code",
   "execution_count": null,
   "id": "03ebe741-1ee4-425a-a60b-df78e3a66005",
   "metadata": {},
   "outputs": [],
   "source": [
    "regressor = LinearRegression()\n",
    "regressor.fit(x_train, y_train)\n",
    "\n",
    "y_pred = regressor.predict(x_test)\n",
    "\n",
    "print('Mean Absolute Error:', metrics.mean_absolute_error(y_test, y_pred))\n",
    "print('Mean Squared Error:', metrics.mean_squared_error(y_test, y_pred))\n",
    "print('R2 score:', metrics.r2_score(y_test, y_pred))"
   ]
  },
  {
   "cell_type": "markdown",
   "id": "51ec54e8-704f-4142-9875-e2977495a3bb",
   "metadata": {},
   "source": [
    "### Decision Tree"
   ]
  },
  {
   "cell_type": "code",
   "execution_count": null,
   "id": "6b195d21-25e0-418f-8311-05bb48508c43",
   "metadata": {},
   "outputs": [],
   "source": [
    "regressor = DecisionTreeRegressor()\n",
    "regressor.fit(x_train, y_train)\n",
    "\n",
    "y_pred = regressor.predict(x_test)\n",
    "\n",
    "print('Mean Absolute Error:', metrics.mean_absolute_error(y_test, y_pred))\n",
    "print('Mean Squared Error:', metrics.mean_squared_error(y_test, y_pred))\n",
    "print('R2 score:', metrics.r2_score(y_test, y_pred))"
   ]
  },
  {
   "cell_type": "code",
   "execution_count": null,
   "id": "8169ee94-06ec-4a31-8089-70163c0bf768",
   "metadata": {},
   "outputs": [],
   "source": [
    "regressor = DecisionTreeRegressor(criterion = 'poisson')\n",
    "regressor.fit(x_train, y_train)\n",
    "\n",
    "y_pred = regressor.predict(x_test)\n",
    "\n",
    "print('Mean Absolute Error:', metrics.mean_absolute_error(y_test, y_pred))\n",
    "print('Mean Squared Error:', metrics.mean_squared_error(y_test, y_pred))\n",
    "print('R2 score:', metrics.r2_score(y_test, y_pred))"
   ]
  },
  {
   "cell_type": "code",
   "execution_count": null,
   "id": "1d80390f-a6ab-4cf0-8a2d-2bf7321a744d",
   "metadata": {},
   "outputs": [],
   "source": [
    "regressor = DecisionTreeRegressor(splitter = 'random')\n",
    "regressor.fit(x_train, y_train)\n",
    "\n",
    "y_pred = regressor.predict(x_test)\n",
    "\n",
    "print('Mean Absolute Error:', metrics.mean_absolute_error(y_test, y_pred))\n",
    "print('Mean Squared Error:', metrics.mean_squared_error(y_test, y_pred))\n",
    "print('R2 score:', metrics.r2_score(y_test, y_pred))"
   ]
  },
  {
   "cell_type": "markdown",
   "id": "1eb608da",
   "metadata": {},
   "source": [
    "### Normalize and repredict"
   ]
  },
  {
   "cell_type": "code",
   "execution_count": null,
   "id": "402b8365",
   "metadata": {},
   "outputs": [],
   "source": [
    "sns.boxplot(df.carat)"
   ]
  },
  {
   "cell_type": "code",
   "execution_count": null,
   "id": "b95a9702",
   "metadata": {},
   "outputs": [],
   "source": [
    "IQR = df.carat.quantile(0.75) - df.carat.quantile(0.25)\n",
    "lower_bridge = df.carat.quantile(0.25) - (IQR * 1.5)\n",
    "upper_bridge = df.carat.quantile(0.75) + (IQR * 1.5)\n",
    "print(lower_bridge, upper_bridge)"
   ]
  },
  {
   "cell_type": "code",
   "execution_count": null,
   "id": "e35c6329",
   "metadata": {},
   "outputs": [],
   "source": [
    "df.loc[df['carat'] >= 2.025, 'carat'] = 2.025\n",
    "df.loc[df['carat'] <= -0.57, 'carat'] = -0.57\n",
    "sns.boxplot(df.carat)"
   ]
  },
  {
   "cell_type": "code",
   "execution_count": null,
   "id": "8625456f",
   "metadata": {},
   "outputs": [],
   "source": [
    "sns.boxplot(df.table)"
   ]
  },
  {
   "cell_type": "code",
   "execution_count": null,
   "id": "734cb20e",
   "metadata": {},
   "outputs": [],
   "source": [
    "IQR = df.table.quantile(0.75) - df.table.quantile(0.25)\n",
    "lower_bridge = df.table.quantile(0.25) - (IQR * 1.5)\n",
    "upper_bridge = df.table.quantile(0.75) + (IQR * 1.5)\n",
    "print(lower_bridge, upper_bridge)"
   ]
  },
  {
   "cell_type": "code",
   "execution_count": null,
   "id": "8996b5f9",
   "metadata": {},
   "outputs": [],
   "source": [
    "df.loc[df['table'] >= 63.5, 'table'] = 63.5\n",
    "df.loc[df['table'] <= 51.5, 'table'] = 51.5\n",
    "sns.boxplot(df.table)"
   ]
  },
  {
   "cell_type": "code",
   "execution_count": null,
   "id": "3363897f",
   "metadata": {},
   "outputs": [],
   "source": [
    "sns.boxplot(df.x)"
   ]
  },
  {
   "cell_type": "code",
   "execution_count": null,
   "id": "f294020e",
   "metadata": {},
   "outputs": [],
   "source": [
    "IQR= df.x.quantile(0.75) - df.x.quantile(0.25)\n",
    "lower_bridge = df.x.quantile(0.25) - (IQR * 1.5)\n",
    "upper_bridge = df.x.quantile(0.75) + (IQR * 1.5)\n",
    "print(lower_bridge, upper_bridge)"
   ]
  },
  {
   "cell_type": "code",
   "execution_count": null,
   "id": "e4b49a85",
   "metadata": {},
   "outputs": [],
   "source": [
    "df.loc[df['x'] >= 9.30, 'x'] = 9.30\n",
    "df.loc[df['x'] <= 1.95, 'x'] = 1.95\n",
    "sns.boxplot(df.x)"
   ]
  },
  {
   "cell_type": "code",
   "execution_count": null,
   "id": "14153245",
   "metadata": {},
   "outputs": [],
   "source": [
    "sns.boxplot(df.y)"
   ]
  },
  {
   "cell_type": "code",
   "execution_count": null,
   "id": "c9665969",
   "metadata": {},
   "outputs": [],
   "source": [
    "IQR = df.y.quantile(0.75) - df.y.quantile(0.25)\n",
    "lower_bridge = df.y.quantile(0.25) - (IQR * 1.5)\n",
    "upper_bridge = df.y.quantile(0.75) + (IQR * 1.5)\n",
    "print(lower_bridge, upper_bridge)"
   ]
  },
  {
   "cell_type": "code",
   "execution_count": null,
   "id": "b1d4052a",
   "metadata": {},
   "outputs": [],
   "source": [
    "df.loc[df['y'] >= 9.285, 'y'] = 9.285\n",
    "df.loc[df['y'] <= 1.964, 'y'] = 1.964\n",
    "sns.boxplot(df.y)"
   ]
  },
  {
   "cell_type": "code",
   "execution_count": null,
   "id": "3f8ea3ea",
   "metadata": {},
   "outputs": [],
   "source": [
    "sns.boxplot(df.z)"
   ]
  },
  {
   "cell_type": "code",
   "execution_count": null,
   "id": "171ac0d9",
   "metadata": {},
   "outputs": [],
   "source": [
    "IQR = df.z.quantile(0.75) - df.z.quantile(0.25)\n",
    "lower_bridge = df.z.quantile(0.25) - (IQR * 1.5)\n",
    "upper_bridge = df.z.quantile(0.75) + (IQR * 1.5)\n",
    "print(lower_bridge, upper_bridge)"
   ]
  },
  {
   "cell_type": "code",
   "execution_count": null,
   "id": "3d265959",
   "metadata": {},
   "outputs": [],
   "source": [
    "df.loc[df['z'] >= 5.75, 'z'] = 5.75\n",
    "df.loc[df['z'] <= 1.18, 'z'] = 1.18\n",
    "sns.boxplot(df.z)"
   ]
  },
  {
   "cell_type": "code",
   "execution_count": null,
   "id": "b96c5b26",
   "metadata": {},
   "outputs": [],
   "source": [
    "sns.boxplot(df.depth_median)"
   ]
  },
  {
   "cell_type": "code",
   "execution_count": null,
   "id": "6a19247c",
   "metadata": {},
   "outputs": [],
   "source": [
    "IQR= df.depth_median.quantile(0.75) - df.depth_median.quantile(0.25)\n",
    "lower_bridge = df.depth_median.quantile(0.25) - (IQR * 1.5)\n",
    "upper_bridge = df.depth_median.quantile(0.75) + (IQR * 1.5)\n",
    "print(lower_bridge, upper_bridge)"
   ]
  },
  {
   "cell_type": "code",
   "execution_count": null,
   "id": "353fd23b",
   "metadata": {},
   "outputs": [],
   "source": [
    "df.loc[df['depth_median'] >= 64.6, 'depth_median'] = 64.6\n",
    "df.loc[df['depth_median'] <= 59.0, 'depth_median'] = 59.0\n",
    "sns.boxplot(df.depth_median)"
   ]
  },
  {
   "cell_type": "code",
   "execution_count": null,
   "id": "a9de323f",
   "metadata": {},
   "outputs": [],
   "source": [
    "x = df.drop(['price'],axis=1)\n",
    "y = df[['price']]\n",
    "x_train, x_test, y_train, y_test = train_test_split(x, y, test_size = 0.2, random_state = 42)\n",
    "print(\"The shape of x_train is      \", x_train.shape)\n",
    "print(\"The shape of x_test is       \", x_test.shape)\n",
    "print(\"The shape of y_train is      \", y_train.shape)\n",
    "print(\"The shape of y_test is       \", y_test.shape)"
   ]
  },
  {
   "cell_type": "markdown",
   "id": "9805f855",
   "metadata": {},
   "source": [
    "### Linear regression reprediction"
   ]
  },
  {
   "cell_type": "code",
   "execution_count": null,
   "id": "4b579ad9",
   "metadata": {},
   "outputs": [],
   "source": [
    "regressor = LinearRegression()\n",
    "regressor.fit(x_train, y_train)\n",
    "\n",
    "y_pred = regressor.predict(x_test)\n",
    "\n",
    "print('Mean Absolute Error:', metrics.mean_absolute_error(y_test, y_pred))\n",
    "print('Mean Squared Error:', metrics.mean_squared_error(y_test, y_pred))\n",
    "print('R2 score:', metrics.r2_score(y_test, y_pred))"
   ]
  }
 ],
 "metadata": {
  "interpreter": {
   "hash": "c7f338170f063b519a597379040f691f09939f518def9fb6f196c9d5cb9207f4"
  },
  "kernelspec": {
   "display_name": "Python 3 (ipykernel)",
   "language": "python",
   "name": "python3"
  },
  "language_info": {
   "codemirror_mode": {
    "name": "ipython",
    "version": 3
   },
   "file_extension": ".py",
   "mimetype": "text/x-python",
   "name": "python",
   "nbconvert_exporter": "python",
   "pygments_lexer": "ipython3",
   "version": "3.9.7"
  }
 },
 "nbformat": 4,
 "nbformat_minor": 5
}
