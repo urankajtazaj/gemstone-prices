{
 "cells": [
  {
   "cell_type": "code",
   "execution_count": 1,
   "id": "5f4af299-5b61-4b15-a243-7bbe064c8cf3",
   "metadata": {},
   "outputs": [],
   "source": [
    "import pandas as pd\n",
    "import matplotlib.pyplot as plt\n",
    "import seaborn as sns\n",
    "sns.set_style('whitegrid')\n",
    "plt.style.use('seaborn')\n",
    "%matplotlib inline\n",
    "\n",
    "from sklearn.preprocessing import MinMaxScaler, LabelEncoder\n",
    "from sklearn.model_selection import train_test_split\n",
    "from sklearn import metrics\n",
    "from sklearn.linear_model import LinearRegression\n",
    "from sklearn.tree import DecisionTreeRegressor\n",
    "from sklearn.ensemble import RandomForestRegressor"
   ]
  },
  {
   "cell_type": "code",
   "execution_count": 2,
   "id": "026ae801-9478-4797-815a-0d441de1ee9c",
   "metadata": {},
   "outputs": [
    {
     "data": {
      "text/plain": [
       "(26967, 11)"
      ]
     },
     "execution_count": 2,
     "metadata": {},
     "output_type": "execute_result"
    }
   ],
   "source": [
    "df = pd.read_csv('cubic_zirconia.csv')\n",
    "df.shape"
   ]
  },
  {
   "cell_type": "code",
   "execution_count": 3,
   "id": "a529a9a8-3311-428f-9b6a-a5d8d054d730",
   "metadata": {},
   "outputs": [
    {
     "data": {
      "text/html": [
       "<div>\n",
       "<style scoped>\n",
       "    .dataframe tbody tr th:only-of-type {\n",
       "        vertical-align: middle;\n",
       "    }\n",
       "\n",
       "    .dataframe tbody tr th {\n",
       "        vertical-align: top;\n",
       "    }\n",
       "\n",
       "    .dataframe thead th {\n",
       "        text-align: right;\n",
       "    }\n",
       "</style>\n",
       "<table border=\"1\" class=\"dataframe\">\n",
       "  <thead>\n",
       "    <tr style=\"text-align: right;\">\n",
       "      <th></th>\n",
       "      <th>Unnamed: 0</th>\n",
       "      <th>carat</th>\n",
       "      <th>cut</th>\n",
       "      <th>color</th>\n",
       "      <th>clarity</th>\n",
       "      <th>depth</th>\n",
       "      <th>table</th>\n",
       "      <th>x</th>\n",
       "      <th>y</th>\n",
       "      <th>z</th>\n",
       "      <th>price</th>\n",
       "    </tr>\n",
       "  </thead>\n",
       "  <tbody>\n",
       "    <tr>\n",
       "      <th>0</th>\n",
       "      <td>1</td>\n",
       "      <td>0.30</td>\n",
       "      <td>Ideal</td>\n",
       "      <td>E</td>\n",
       "      <td>SI1</td>\n",
       "      <td>62.1</td>\n",
       "      <td>58.0</td>\n",
       "      <td>4.27</td>\n",
       "      <td>4.29</td>\n",
       "      <td>2.66</td>\n",
       "      <td>499</td>\n",
       "    </tr>\n",
       "    <tr>\n",
       "      <th>1</th>\n",
       "      <td>2</td>\n",
       "      <td>0.33</td>\n",
       "      <td>Premium</td>\n",
       "      <td>G</td>\n",
       "      <td>IF</td>\n",
       "      <td>60.8</td>\n",
       "      <td>58.0</td>\n",
       "      <td>4.42</td>\n",
       "      <td>4.46</td>\n",
       "      <td>2.70</td>\n",
       "      <td>984</td>\n",
       "    </tr>\n",
       "    <tr>\n",
       "      <th>2</th>\n",
       "      <td>3</td>\n",
       "      <td>0.90</td>\n",
       "      <td>Very Good</td>\n",
       "      <td>E</td>\n",
       "      <td>VVS2</td>\n",
       "      <td>62.2</td>\n",
       "      <td>60.0</td>\n",
       "      <td>6.04</td>\n",
       "      <td>6.12</td>\n",
       "      <td>3.78</td>\n",
       "      <td>6289</td>\n",
       "    </tr>\n",
       "    <tr>\n",
       "      <th>3</th>\n",
       "      <td>4</td>\n",
       "      <td>0.42</td>\n",
       "      <td>Ideal</td>\n",
       "      <td>F</td>\n",
       "      <td>VS1</td>\n",
       "      <td>61.6</td>\n",
       "      <td>56.0</td>\n",
       "      <td>4.82</td>\n",
       "      <td>4.80</td>\n",
       "      <td>2.96</td>\n",
       "      <td>1082</td>\n",
       "    </tr>\n",
       "    <tr>\n",
       "      <th>4</th>\n",
       "      <td>5</td>\n",
       "      <td>0.31</td>\n",
       "      <td>Ideal</td>\n",
       "      <td>F</td>\n",
       "      <td>VVS1</td>\n",
       "      <td>60.4</td>\n",
       "      <td>59.0</td>\n",
       "      <td>4.35</td>\n",
       "      <td>4.43</td>\n",
       "      <td>2.65</td>\n",
       "      <td>779</td>\n",
       "    </tr>\n",
       "  </tbody>\n",
       "</table>\n",
       "</div>"
      ],
      "text/plain": [
       "   Unnamed: 0  carat        cut color clarity  depth  table     x     y     z  \\\n",
       "0           1   0.30      Ideal     E     SI1   62.1   58.0  4.27  4.29  2.66   \n",
       "1           2   0.33    Premium     G      IF   60.8   58.0  4.42  4.46  2.70   \n",
       "2           3   0.90  Very Good     E    VVS2   62.2   60.0  6.04  6.12  3.78   \n",
       "3           4   0.42      Ideal     F     VS1   61.6   56.0  4.82  4.80  2.96   \n",
       "4           5   0.31      Ideal     F    VVS1   60.4   59.0  4.35  4.43  2.65   \n",
       "\n",
       "   price  \n",
       "0    499  \n",
       "1    984  \n",
       "2   6289  \n",
       "3   1082  \n",
       "4    779  "
      ]
     },
     "execution_count": 3,
     "metadata": {},
     "output_type": "execute_result"
    }
   ],
   "source": [
    "df.head()"
   ]
  },
  {
   "cell_type": "code",
   "execution_count": 4,
   "id": "30b55a7d-3808-40da-8b8f-2d0c1b566a6d",
   "metadata": {},
   "outputs": [
    {
     "data": {
      "text/plain": [
       "Index(['Unnamed: 0', 'carat', 'cut', 'color', 'clarity', 'depth', 'table', 'x',\n",
       "       'y', 'z', 'price'],\n",
       "      dtype='object')"
      ]
     },
     "execution_count": 4,
     "metadata": {},
     "output_type": "execute_result"
    }
   ],
   "source": [
    "df.columns"
   ]
  },
  {
   "cell_type": "code",
   "execution_count": 5,
   "id": "74bb959d-92a7-4980-96c8-e09ae49bedf5",
   "metadata": {},
   "outputs": [
    {
     "data": {
      "text/html": [
       "<div>\n",
       "<style scoped>\n",
       "    .dataframe tbody tr th:only-of-type {\n",
       "        vertical-align: middle;\n",
       "    }\n",
       "\n",
       "    .dataframe tbody tr th {\n",
       "        vertical-align: top;\n",
       "    }\n",
       "\n",
       "    .dataframe thead th {\n",
       "        text-align: right;\n",
       "    }\n",
       "</style>\n",
       "<table border=\"1\" class=\"dataframe\">\n",
       "  <thead>\n",
       "    <tr style=\"text-align: right;\">\n",
       "      <th></th>\n",
       "      <th>Unnamed: 0</th>\n",
       "      <th>carat</th>\n",
       "      <th>depth</th>\n",
       "      <th>table</th>\n",
       "      <th>x</th>\n",
       "      <th>y</th>\n",
       "      <th>z</th>\n",
       "      <th>price</th>\n",
       "    </tr>\n",
       "  </thead>\n",
       "  <tbody>\n",
       "    <tr>\n",
       "      <th>count</th>\n",
       "      <td>26967.000000</td>\n",
       "      <td>26967.000000</td>\n",
       "      <td>26270.000000</td>\n",
       "      <td>26967.000000</td>\n",
       "      <td>26967.000000</td>\n",
       "      <td>26967.000000</td>\n",
       "      <td>26967.000000</td>\n",
       "      <td>26967.000000</td>\n",
       "    </tr>\n",
       "    <tr>\n",
       "      <th>mean</th>\n",
       "      <td>13484.000000</td>\n",
       "      <td>0.798375</td>\n",
       "      <td>61.745147</td>\n",
       "      <td>57.456080</td>\n",
       "      <td>5.729854</td>\n",
       "      <td>5.733569</td>\n",
       "      <td>3.538057</td>\n",
       "      <td>3939.518115</td>\n",
       "    </tr>\n",
       "    <tr>\n",
       "      <th>std</th>\n",
       "      <td>7784.846691</td>\n",
       "      <td>0.477745</td>\n",
       "      <td>1.412860</td>\n",
       "      <td>2.232068</td>\n",
       "      <td>1.128516</td>\n",
       "      <td>1.166058</td>\n",
       "      <td>0.720624</td>\n",
       "      <td>4024.864666</td>\n",
       "    </tr>\n",
       "    <tr>\n",
       "      <th>min</th>\n",
       "      <td>1.000000</td>\n",
       "      <td>0.200000</td>\n",
       "      <td>50.800000</td>\n",
       "      <td>49.000000</td>\n",
       "      <td>0.000000</td>\n",
       "      <td>0.000000</td>\n",
       "      <td>0.000000</td>\n",
       "      <td>326.000000</td>\n",
       "    </tr>\n",
       "    <tr>\n",
       "      <th>25%</th>\n",
       "      <td>6742.500000</td>\n",
       "      <td>0.400000</td>\n",
       "      <td>61.000000</td>\n",
       "      <td>56.000000</td>\n",
       "      <td>4.710000</td>\n",
       "      <td>4.710000</td>\n",
       "      <td>2.900000</td>\n",
       "      <td>945.000000</td>\n",
       "    </tr>\n",
       "    <tr>\n",
       "      <th>50%</th>\n",
       "      <td>13484.000000</td>\n",
       "      <td>0.700000</td>\n",
       "      <td>61.800000</td>\n",
       "      <td>57.000000</td>\n",
       "      <td>5.690000</td>\n",
       "      <td>5.710000</td>\n",
       "      <td>3.520000</td>\n",
       "      <td>2375.000000</td>\n",
       "    </tr>\n",
       "    <tr>\n",
       "      <th>75%</th>\n",
       "      <td>20225.500000</td>\n",
       "      <td>1.050000</td>\n",
       "      <td>62.500000</td>\n",
       "      <td>59.000000</td>\n",
       "      <td>6.550000</td>\n",
       "      <td>6.540000</td>\n",
       "      <td>4.040000</td>\n",
       "      <td>5360.000000</td>\n",
       "    </tr>\n",
       "    <tr>\n",
       "      <th>max</th>\n",
       "      <td>26967.000000</td>\n",
       "      <td>4.500000</td>\n",
       "      <td>73.600000</td>\n",
       "      <td>79.000000</td>\n",
       "      <td>10.230000</td>\n",
       "      <td>58.900000</td>\n",
       "      <td>31.800000</td>\n",
       "      <td>18818.000000</td>\n",
       "    </tr>\n",
       "  </tbody>\n",
       "</table>\n",
       "</div>"
      ],
      "text/plain": [
       "         Unnamed: 0         carat         depth         table             x  \\\n",
       "count  26967.000000  26967.000000  26270.000000  26967.000000  26967.000000   \n",
       "mean   13484.000000      0.798375     61.745147     57.456080      5.729854   \n",
       "std     7784.846691      0.477745      1.412860      2.232068      1.128516   \n",
       "min        1.000000      0.200000     50.800000     49.000000      0.000000   \n",
       "25%     6742.500000      0.400000     61.000000     56.000000      4.710000   \n",
       "50%    13484.000000      0.700000     61.800000     57.000000      5.690000   \n",
       "75%    20225.500000      1.050000     62.500000     59.000000      6.550000   \n",
       "max    26967.000000      4.500000     73.600000     79.000000     10.230000   \n",
       "\n",
       "                  y             z         price  \n",
       "count  26967.000000  26967.000000  26967.000000  \n",
       "mean       5.733569      3.538057   3939.518115  \n",
       "std        1.166058      0.720624   4024.864666  \n",
       "min        0.000000      0.000000    326.000000  \n",
       "25%        4.710000      2.900000    945.000000  \n",
       "50%        5.710000      3.520000   2375.000000  \n",
       "75%        6.540000      4.040000   5360.000000  \n",
       "max       58.900000     31.800000  18818.000000  "
      ]
     },
     "execution_count": 5,
     "metadata": {},
     "output_type": "execute_result"
    }
   ],
   "source": [
    "df.describe()"
   ]
  },
  {
   "cell_type": "markdown",
   "id": "d937db70-9a04-448d-8120-3dc0983ffd10",
   "metadata": {},
   "source": [
    "### Processing"
   ]
  },
  {
   "cell_type": "code",
   "execution_count": 6,
   "id": "083beba2-6902-41b4-a1b0-61b5cb37f6bf",
   "metadata": {},
   "outputs": [],
   "source": [
    "df.drop('Unnamed: 0',axis=1,inplace=True)\n",
    "df = df.replace({'Ideal':4,'Premium':3,'Very Good':2,'Good':1,'Fair':0})\n",
    "\n",
    "e = LabelEncoder()\n",
    "df['color'] = e.fit_transform(df['color'])\n",
    "df['clarity'] = e.fit_transform(df['clarity'])"
   ]
  },
  {
   "cell_type": "code",
   "execution_count": 7,
   "id": "f2b298ee-9030-49f3-97a4-50adac57dcc2",
   "metadata": {},
   "outputs": [
    {
     "data": {
      "text/plain": [
       "carat        0\n",
       "cut          0\n",
       "color        0\n",
       "clarity      0\n",
       "depth      697\n",
       "table        0\n",
       "x            0\n",
       "y            0\n",
       "z            0\n",
       "price        0\n",
       "dtype: int64"
      ]
     },
     "execution_count": 7,
     "metadata": {},
     "output_type": "execute_result"
    }
   ],
   "source": [
    "df.isnull().sum()"
   ]
  },
  {
   "cell_type": "code",
   "execution_count": 8,
   "id": "e672ad3b-0c1a-47e4-836c-e4daf53cb807",
   "metadata": {},
   "outputs": [],
   "source": [
    "df['depth_median'] = df['depth'].fillna(df.depth.median())\n",
    "df.drop('depth',axis=1,inplace=True)"
   ]
  },
  {
   "cell_type": "code",
   "execution_count": 9,
   "id": "c8615026",
   "metadata": {},
   "outputs": [
    {
     "data": {
      "text/html": [
       "<div>\n",
       "<style scoped>\n",
       "    .dataframe tbody tr th:only-of-type {\n",
       "        vertical-align: middle;\n",
       "    }\n",
       "\n",
       "    .dataframe tbody tr th {\n",
       "        vertical-align: top;\n",
       "    }\n",
       "\n",
       "    .dataframe thead th {\n",
       "        text-align: right;\n",
       "    }\n",
       "</style>\n",
       "<table border=\"1\" class=\"dataframe\">\n",
       "  <thead>\n",
       "    <tr style=\"text-align: right;\">\n",
       "      <th></th>\n",
       "      <th>carat</th>\n",
       "      <th>cut</th>\n",
       "      <th>color</th>\n",
       "      <th>clarity</th>\n",
       "      <th>table</th>\n",
       "      <th>x</th>\n",
       "      <th>y</th>\n",
       "      <th>z</th>\n",
       "      <th>price</th>\n",
       "      <th>depth_median</th>\n",
       "    </tr>\n",
       "  </thead>\n",
       "  <tbody>\n",
       "    <tr>\n",
       "      <th>0</th>\n",
       "      <td>0.30</td>\n",
       "      <td>4</td>\n",
       "      <td>1</td>\n",
       "      <td>2</td>\n",
       "      <td>58.0</td>\n",
       "      <td>4.27</td>\n",
       "      <td>4.29</td>\n",
       "      <td>2.66</td>\n",
       "      <td>499</td>\n",
       "      <td>62.1</td>\n",
       "    </tr>\n",
       "    <tr>\n",
       "      <th>1</th>\n",
       "      <td>0.33</td>\n",
       "      <td>3</td>\n",
       "      <td>3</td>\n",
       "      <td>1</td>\n",
       "      <td>58.0</td>\n",
       "      <td>4.42</td>\n",
       "      <td>4.46</td>\n",
       "      <td>2.70</td>\n",
       "      <td>984</td>\n",
       "      <td>60.8</td>\n",
       "    </tr>\n",
       "    <tr>\n",
       "      <th>2</th>\n",
       "      <td>0.90</td>\n",
       "      <td>2</td>\n",
       "      <td>1</td>\n",
       "      <td>7</td>\n",
       "      <td>60.0</td>\n",
       "      <td>6.04</td>\n",
       "      <td>6.12</td>\n",
       "      <td>3.78</td>\n",
       "      <td>6289</td>\n",
       "      <td>62.2</td>\n",
       "    </tr>\n",
       "    <tr>\n",
       "      <th>3</th>\n",
       "      <td>0.42</td>\n",
       "      <td>4</td>\n",
       "      <td>2</td>\n",
       "      <td>4</td>\n",
       "      <td>56.0</td>\n",
       "      <td>4.82</td>\n",
       "      <td>4.80</td>\n",
       "      <td>2.96</td>\n",
       "      <td>1082</td>\n",
       "      <td>61.6</td>\n",
       "    </tr>\n",
       "    <tr>\n",
       "      <th>4</th>\n",
       "      <td>0.31</td>\n",
       "      <td>4</td>\n",
       "      <td>2</td>\n",
       "      <td>6</td>\n",
       "      <td>59.0</td>\n",
       "      <td>4.35</td>\n",
       "      <td>4.43</td>\n",
       "      <td>2.65</td>\n",
       "      <td>779</td>\n",
       "      <td>60.4</td>\n",
       "    </tr>\n",
       "  </tbody>\n",
       "</table>\n",
       "</div>"
      ],
      "text/plain": [
       "   carat  cut  color  clarity  table     x     y     z  price  depth_median\n",
       "0   0.30    4      1        2   58.0  4.27  4.29  2.66    499          62.1\n",
       "1   0.33    3      3        1   58.0  4.42  4.46  2.70    984          60.8\n",
       "2   0.90    2      1        7   60.0  6.04  6.12  3.78   6289          62.2\n",
       "3   0.42    4      2        4   56.0  4.82  4.80  2.96   1082          61.6\n",
       "4   0.31    4      2        6   59.0  4.35  4.43  2.65    779          60.4"
      ]
     },
     "execution_count": 9,
     "metadata": {},
     "output_type": "execute_result"
    }
   ],
   "source": [
    "df.head()"
   ]
  },
  {
   "cell_type": "code",
   "execution_count": 10,
   "id": "ad60cdd5",
   "metadata": {},
   "outputs": [
    {
     "data": {
      "text/plain": [
       "<AxesSubplot:title={'center':'Correlation between variables'}>"
      ]
     },
     "execution_count": 10,
     "metadata": {},
     "output_type": "execute_result"
    },
    {
     "data": {
      "image/png": "[encoded data removed]",
      "text/plain": [
       "<Figure size 864x720 with 2 Axes>"
      ]
     },
     "metadata": {
      "needs_background": "light"
     },
     "output_type": "display_data"
    }
   ],
   "source": [
    "plt.figure(figsize = (12,10))\n",
    "plt.title('Correlation between variables')\n",
    "sns.heatmap(df.corr(), annot=True, cmap= \"bone_r\")"
   ]
  },
  {
   "cell_type": "markdown",
   "id": "22dc1c64",
   "metadata": {},
   "source": [
    "### Prediction"
   ]
  },
  {
   "cell_type": "code",
   "execution_count": 11,
   "id": "e0502400-50c3-41ef-8a4c-6cb41bc836f4",
   "metadata": {},
   "outputs": [
    {
     "name": "stdout",
     "output_type": "stream",
     "text": [
      "The shape of x_train is       (21573, 9)\n",
      "The shape of x_test is        (5394, 9)\n",
      "The shape of y_train is       (21573, 1)\n",
      "The shape of y_test is        (5394, 1)\n"
     ]
    }
   ],
   "source": [
    "x = df.drop(['price'],axis=1)\n",
    "y = df[['price']]\n",
    "x_train, x_test, y_train, y_test = train_test_split(x, y, test_size = 0.2, random_state = 42)\n",
    "print(\"The shape of x_train is      \", x_train.shape)\n",
    "print(\"The shape of x_test is       \", x_test.shape)\n",
    "print(\"The shape of y_train is      \", y_train.shape)\n",
    "print(\"The shape of y_test is       \", y_test.shape)"
   ]
  },
  {
   "cell_type": "markdown",
   "id": "ef5571d5-6ccc-4749-8da7-6333a8623aa4",
   "metadata": {},
   "source": [
    "### Linear Regression"
   ]
  },
  {
   "cell_type": "code",
   "execution_count": 12,
   "id": "03ebe741-1ee4-425a-a60b-df78e3a66005",
   "metadata": {},
   "outputs": [
    {
     "name": "stdout",
     "output_type": "stream",
     "text": [
      "Mean Absolute Error: 902.6098739122565\n",
      "Mean Squared Error: 4574149.029552109\n",
      "R2 score: 0.7283199767943986\n"
     ]
    }
   ],
   "source": [
    "regressor = LinearRegression()\n",
    "regressor.fit(x_train, y_train)\n",
    "\n",
    "y_pred = regressor.predict(x_test)\n",
    "\n",
    "print('Mean Absolute Error:', metrics.mean_absolute_error(y_test, y_pred))\n",
    "print('Mean Squared Error:', metrics.mean_squared_error(y_test, y_pred))\n",
    "print('R2 score:', metrics.r2_score(y_test, y_pred))"
   ]
  },
  {
   "cell_type": "markdown",
   "id": "1eb608da",
   "metadata": {},
   "source": [
    "### Normalize and repredict"
   ]
  },
  {
   "cell_type": "code",
   "execution_count": null,
   "id": "402b8365",
   "metadata": {},
   "outputs": [],
   "source": [
    "sns.boxplot(df.carat)"
   ]
  },
  {
   "cell_type": "code",
   "execution_count": null,
   "id": "b95a9702",
   "metadata": {},
   "outputs": [],
   "source": [
    "IQR = df.carat.quantile(0.75) - df.carat.quantile(0.25)\n",
    "lower_bridge = df.carat.quantile(0.25) - (IQR * 1.5)\n",
    "upper_bridge = df.carat.quantile(0.75) + (IQR * 1.5)\n",
    "print(lower_bridge, upper_bridge)"
   ]
  },
  {
   "cell_type": "code",
   "execution_count": null,
   "id": "e35c6329",
   "metadata": {},
   "outputs": [],
   "source": [
    "df.loc[df['carat'] >= 2.025, 'carat'] = 2.025\n",
    "df.loc[df['carat'] <= -0.57, 'carat'] = -0.57\n",
    "sns.boxplot(df.carat)"
   ]
  },
  {
   "cell_type": "code",
   "execution_count": null,
   "id": "8625456f",
   "metadata": {},
   "outputs": [],
   "source": [
    "sns.boxplot(df.table)"
   ]
  },
  {
   "cell_type": "code",
   "execution_count": null,
   "id": "734cb20e",
   "metadata": {},
   "outputs": [],
   "source": [
    "IQR = df.table.quantile(0.75) - df.table.quantile(0.25)\n",
    "lower_bridge = df.table.quantile(0.25) - (IQR * 1.5)\n",
    "upper_bridge = df.table.quantile(0.75) + (IQR * 1.5)\n",
    "print(lower_bridge, upper_bridge)"
   ]
  },
  {
   "cell_type": "code",
   "execution_count": null,
   "id": "8996b5f9",
   "metadata": {},
   "outputs": [],
   "source": [
    "df.loc[df['table'] >= 63.5, 'table'] = 63.5\n",
    "df.loc[df['table'] <= 51.5, 'table'] = 51.5\n",
    "sns.boxplot(df.table)"
   ]
  },
  {
   "cell_type": "code",
   "execution_count": null,
   "id": "3363897f",
   "metadata": {},
   "outputs": [],
   "source": [
    "sns.boxplot(df.x)"
   ]
  },
  {
   "cell_type": "code",
   "execution_count": null,
   "id": "f294020e",
   "metadata": {},
   "outputs": [],
   "source": [
    "IQR= df.x.quantile(0.75) - df.x.quantile(0.25)\n",
    "lower_bridge = df.x.quantile(0.25) - (IQR * 1.5)\n",
    "upper_bridge = df.x.quantile(0.75) + (IQR * 1.5)\n",
    "print(lower_bridge, upper_bridge)"
   ]
  },
  {
   "cell_type": "code",
   "execution_count": null,
   "id": "e4b49a85",
   "metadata": {},
   "outputs": [],
   "source": [
    "df.loc[df['x'] >= 9.30, 'x'] = 9.30\n",
    "df.loc[df['x'] <= 1.95, 'x'] = 1.95\n",
    "sns.boxplot(df.x)"
   ]
  },
  {
   "cell_type": "code",
   "execution_count": null,
   "id": "14153245",
   "metadata": {},
   "outputs": [],
   "source": [
    "sns.boxplot(df.y)"
   ]
  },
  {
   "cell_type": "code",
   "execution_count": null,
   "id": "c9665969",
   "metadata": {},
   "outputs": [],
   "source": [
    "IQR = df.y.quantile(0.75) - df.y.quantile(0.25)\n",
    "lower_bridge = df.y.quantile(0.25) - (IQR * 1.5)\n",
    "upper_bridge = df.y.quantile(0.75) + (IQR * 1.5)\n",
    "print(lower_bridge, upper_bridge)"
   ]
  },
  {
   "cell_type": "code",
   "execution_count": null,
   "id": "b1d4052a",
   "metadata": {},
   "outputs": [],
   "source": [
    "df.loc[df['y'] >= 9.285, 'y'] = 9.285\n",
    "df.loc[df['y'] <= 1.964, 'y'] = 1.964\n",
    "sns.boxplot(df.y)"
   ]
  },
  {
   "cell_type": "code",
   "execution_count": null,
   "id": "3f8ea3ea",
   "metadata": {},
   "outputs": [],
   "source": [
    "sns.boxplot(df.z)"
   ]
  },
  {
   "cell_type": "code",
   "execution_count": null,
   "id": "171ac0d9",
   "metadata": {},
   "outputs": [],
   "source": [
    "IQR = df.z.quantile(0.75) - df.z.quantile(0.25)\n",
    "lower_bridge = df.z.quantile(0.25) - (IQR * 1.5)\n",
    "upper_bridge = df.z.quantile(0.75) + (IQR * 1.5)\n",
    "print(lower_bridge, upper_bridge)"
   ]
  },
  {
   "cell_type": "code",
   "execution_count": null,
   "id": "3d265959",
   "metadata": {},
   "outputs": [],
   "source": [
    "df.loc[df['z'] >= 5.75, 'z'] = 5.75\n",
    "df.loc[df['z'] <= 1.18, 'z'] = 1.18\n",
    "sns.boxplot(df.z)"
   ]
  },
  {
   "cell_type": "code",
   "execution_count": null,
   "id": "b96c5b26",
   "metadata": {},
   "outputs": [],
   "source": [
    "sns.boxplot(df.depth_median)"
   ]
  },
  {
   "cell_type": "code",
   "execution_count": null,
   "id": "6a19247c",
   "metadata": {},
   "outputs": [],
   "source": [
    "IQR= df.depth_median.quantile(0.75) - df.depth_median.quantile(0.25)\n",
    "lower_bridge = df.depth_median.quantile(0.25) - (IQR * 1.5)\n",
    "upper_bridge = df.depth_median.quantile(0.75) + (IQR * 1.5)\n",
    "print(lower_bridge, upper_bridge)"
   ]
  },
  {
   "cell_type": "code",
   "execution_count": null,
   "id": "353fd23b",
   "metadata": {},
   "outputs": [],
   "source": [
    "df.loc[df['depth_median'] >= 64.6, 'depth_median'] = 64.6\n",
    "df.loc[df['depth_median'] <= 59.0, 'depth_median'] = 59.0\n",
    "sns.boxplot(df.depth_median)"
   ]
  },
  {
   "cell_type": "code",
   "execution_count": null,
   "id": "a9de323f",
   "metadata": {},
   "outputs": [],
   "source": [
    "x = df.drop(['price'],axis=1)\n",
    "y = df[['price']]\n",
    "x_train, x_test, y_train, y_test = train_test_split(x, y, test_size = 0.2, random_state = 42)\n",
    "print(\"The shape of x_train is      \", x_train.shape)\n",
    "print(\"The shape of x_test is       \", x_test.shape)\n",
    "print(\"The shape of y_train is      \", y_train.shape)\n",
    "print(\"The shape of y_test is       \", y_test.shape)"
   ]
  }
 ],
 "metadata": {
  "interpreter": {
   "hash": "c7f338170f063b519a597379040f691f09939f518def9fb6f196c9d5cb9207f4"
  },
  "kernelspec": {
   "display_name": "Python 3 (ipykernel)",
   "language": "python",
   "name": "python3"
  },
  "language_info": {
   "codemirror_mode": {
    "name": "ipython",
    "version": 3
   },
   "file_extension": ".py",
   "mimetype": "text/x-python",
   "name": "python",
   "nbconvert_exporter": "python",
   "pygments_lexer": "ipython3",
   "version": "3.9.7"
  }
 },
 "nbformat": 4,
 "nbformat_minor": 5
}
